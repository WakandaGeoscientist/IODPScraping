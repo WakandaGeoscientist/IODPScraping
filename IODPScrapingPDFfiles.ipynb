{
 "cells": [
  {
   "cell_type": "markdown",
   "id": "b80e8d9e",
   "metadata": {},
   "source": [
    "## Scraping IODP Website using Request"
   ]
  },
  {
   "cell_type": "code",
   "execution_count": 9,
   "id": "768048d2",
   "metadata": {},
   "outputs": [],
   "source": [
    "#To scrape a single pdf using its speciifc url\n",
    "\n",
    "import requests\n",
    "import os\n",
    "\n",
    "url = 'http://www-odp.tamu.edu/publications/166IR/CORES/1003A3H.PDF'\n",
    "response = requests.get(url)\n",
    "\n",
    "folder_location = r'C:\\Users\\CSM CoRE\\OneDrive - Colorado School of Mines\\DavidNworiePhD\\IODP Data Extracts\\166 Core image\\Site1003'\n",
    "filename = os.path.join(folder_location, '1003A3H.PDF')\n",
    "\n",
    "with open(filename, 'wb') as f:\n",
    "    f.write(response.content)\n"
   ]
  },
  {
   "cell_type": "code",
   "execution_count": 12,
   "id": "446653b2",
   "metadata": {},
   "outputs": [],
   "source": [
    "# To download batches at a go from individual expenditions/legs\n",
    "import os\n",
    "import requests\n",
    "from bs4 import BeautifulSoup\n",
    "\n",
    "# URL of the website containing the PDFs\n",
    "base_url = 'http://www-odp.tamu.edu/publications/166IR/CORES/'\n",
    "\n",
    "# Folder location to save the downloaded PDFs\n",
    "folder_location = r'C:\\Users\\CSM CoRE\\OneDrive - Colorado School of Mines\\DavidNworiePhD\\IODP Data Extracts\\166 Core image\\Site1003'\n",
    "\n",
    "# If the folder does not exist, create it\n",
    "if not os.path.exists(folder_location):\n",
    "    os.makedirs(folder_location)\n",
    "\n",
    "# Connect to the website and get a list of all PDFs\n",
    "response = requests.get(base_url)\n",
    "soup = BeautifulSoup(response.text, 'html.parser')\n",
    "pdf_urls = []\n",
    "for link in soup.select(\"a[href$='.PDF']\"):\n",
    "    pdf_urls.append(base_url + link['href'])\n",
    "\n",
    "# Download each PDF and save it to the folder\n",
    "for url in pdf_urls:\n",
    "    filename = os.path.join(folder_location, url.split('/')[-1])\n",
    "    response = requests.get(url)\n",
    "    with open(filename, 'wb') as f:\n",
    "        f.write(response.content)\n"
   ]
  },
  {
   "cell_type": "code",
   "execution_count": null,
   "id": "08392ce7",
   "metadata": {},
   "outputs": [],
   "source": []
  },
  {
   "cell_type": "code",
   "execution_count": null,
   "id": "359379b7",
   "metadata": {},
   "outputs": [],
   "source": []
  },
  {
   "cell_type": "code",
   "execution_count": null,
   "id": "b2815a7b",
   "metadata": {},
   "outputs": [],
   "source": []
  }
 ],
 "metadata": {
  "kernelspec": {
   "display_name": "Python 3 (ipykernel)",
   "language": "python",
   "name": "python3"
  },
  "language_info": {
   "codemirror_mode": {
    "name": "ipython",
    "version": 3
   },
   "file_extension": ".py",
   "mimetype": "text/x-python",
   "name": "python",
   "nbconvert_exporter": "python",
   "pygments_lexer": "ipython3",
   "version": "3.9.13"
  }
 },
 "nbformat": 4,
 "nbformat_minor": 5
}
